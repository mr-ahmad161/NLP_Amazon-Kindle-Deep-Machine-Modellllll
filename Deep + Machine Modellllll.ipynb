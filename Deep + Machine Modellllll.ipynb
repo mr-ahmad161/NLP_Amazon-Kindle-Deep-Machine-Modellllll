{
 "cells": [
  {
   "cell_type": "code",
   "execution_count": 1,
   "id": "placed-former",
   "metadata": {},
   "outputs": [],
   "source": [
    "import numpy as np  # linear algebra\n",
    "import pandas as pd # data processing, like text ,CSV or pdf file\n",
    "\n",
    "df = pd.read_csv(r'C:\\Users\\AR 161\\Desktop\\Final Project\\kindle_reviews.csv')  #here r is uni code\n",
    "\n"
   ]
  },
  {
   "cell_type": "code",
   "execution_count": 2,
   "id": "french-change",
   "metadata": {},
   "outputs": [
    {
     "data": {
      "text/html": [
       "<div>\n",
       "<style scoped>\n",
       "    .dataframe tbody tr th:only-of-type {\n",
       "        vertical-align: middle;\n",
       "    }\n",
       "\n",
       "    .dataframe tbody tr th {\n",
       "        vertical-align: top;\n",
       "    }\n",
       "\n",
       "    .dataframe thead th {\n",
       "        text-align: right;\n",
       "    }\n",
       "</style>\n",
       "<table border=\"1\" class=\"dataframe\">\n",
       "  <thead>\n",
       "    <tr style=\"text-align: right;\">\n",
       "      <th></th>\n",
       "      <th>Unnamed: 0</th>\n",
       "      <th>asin</th>\n",
       "      <th>helpful</th>\n",
       "      <th>overall</th>\n",
       "      <th>reviewText</th>\n",
       "      <th>reviewTime</th>\n",
       "      <th>reviewerID</th>\n",
       "      <th>reviewerName</th>\n",
       "      <th>summary</th>\n",
       "      <th>unixReviewTime</th>\n",
       "    </tr>\n",
       "  </thead>\n",
       "  <tbody>\n",
       "    <tr>\n",
       "      <th>0</th>\n",
       "      <td>0</td>\n",
       "      <td>B000F83SZQ</td>\n",
       "      <td>[0, 0]</td>\n",
       "      <td>5</td>\n",
       "      <td>I enjoy vintage books and movies so I enjoyed ...</td>\n",
       "      <td>05 5, 2014</td>\n",
       "      <td>A1F6404F1VG29J</td>\n",
       "      <td>Avidreader</td>\n",
       "      <td>Nice vintage story</td>\n",
       "      <td>1399248000</td>\n",
       "    </tr>\n",
       "    <tr>\n",
       "      <th>1</th>\n",
       "      <td>1</td>\n",
       "      <td>B000F83SZQ</td>\n",
       "      <td>[2, 2]</td>\n",
       "      <td>4</td>\n",
       "      <td>This book is a reissue of an old one; the auth...</td>\n",
       "      <td>01 6, 2014</td>\n",
       "      <td>AN0N05A9LIJEQ</td>\n",
       "      <td>critters</td>\n",
       "      <td>Different...</td>\n",
       "      <td>1388966400</td>\n",
       "    </tr>\n",
       "    <tr>\n",
       "      <th>2</th>\n",
       "      <td>2</td>\n",
       "      <td>B000F83SZQ</td>\n",
       "      <td>[2, 2]</td>\n",
       "      <td>4</td>\n",
       "      <td>This was a fairly interesting read.  It had ol...</td>\n",
       "      <td>04 4, 2014</td>\n",
       "      <td>A795DMNCJILA6</td>\n",
       "      <td>dot</td>\n",
       "      <td>Oldie</td>\n",
       "      <td>1396569600</td>\n",
       "    </tr>\n",
       "    <tr>\n",
       "      <th>3</th>\n",
       "      <td>3</td>\n",
       "      <td>B000F83SZQ</td>\n",
       "      <td>[1, 1]</td>\n",
       "      <td>5</td>\n",
       "      <td>I'd never read any of the Amy Brewster mysteri...</td>\n",
       "      <td>02 19, 2014</td>\n",
       "      <td>A1FV0SX13TWVXQ</td>\n",
       "      <td>Elaine H. Turley \"Montana Songbird\"</td>\n",
       "      <td>I really liked it.</td>\n",
       "      <td>1392768000</td>\n",
       "    </tr>\n",
       "    <tr>\n",
       "      <th>4</th>\n",
       "      <td>4</td>\n",
       "      <td>B000F83SZQ</td>\n",
       "      <td>[0, 1]</td>\n",
       "      <td>4</td>\n",
       "      <td>If you like period pieces - clothing, lingo, y...</td>\n",
       "      <td>03 19, 2014</td>\n",
       "      <td>A3SPTOKDG7WBLN</td>\n",
       "      <td>Father Dowling Fan</td>\n",
       "      <td>Period Mystery</td>\n",
       "      <td>1395187200</td>\n",
       "    </tr>\n",
       "    <tr>\n",
       "      <th>5</th>\n",
       "      <td>5</td>\n",
       "      <td>B000F83SZQ</td>\n",
       "      <td>[0, 0]</td>\n",
       "      <td>4</td>\n",
       "      <td>A beautiful in-depth character description mak...</td>\n",
       "      <td>05 26, 2014</td>\n",
       "      <td>A1RK2OCZDSGC6R</td>\n",
       "      <td>ubavka seirovska</td>\n",
       "      <td>Review</td>\n",
       "      <td>1401062400</td>\n",
       "    </tr>\n",
       "    <tr>\n",
       "      <th>6</th>\n",
       "      <td>6</td>\n",
       "      <td>B000F83SZQ</td>\n",
       "      <td>[0, 0]</td>\n",
       "      <td>4</td>\n",
       "      <td>I enjoyed this one tho I'm not sure why it's c...</td>\n",
       "      <td>06 10, 2014</td>\n",
       "      <td>A2HSAKHC3IBRE6</td>\n",
       "      <td>Wolfmist</td>\n",
       "      <td>Nice old fashioned story</td>\n",
       "      <td>1402358400</td>\n",
       "    </tr>\n",
       "    <tr>\n",
       "      <th>7</th>\n",
       "      <td>7</td>\n",
       "      <td>B000F83SZQ</td>\n",
       "      <td>[1, 1]</td>\n",
       "      <td>4</td>\n",
       "      <td>Never heard of Amy Brewster. But I don't need ...</td>\n",
       "      <td>03 22, 2014</td>\n",
       "      <td>A3DE6XGZ2EPADS</td>\n",
       "      <td>WPY</td>\n",
       "      <td>Enjoyable reading and reminding the old times</td>\n",
       "      <td>1395446400</td>\n",
       "    </tr>\n",
       "    <tr>\n",
       "      <th>8</th>\n",
       "      <td>8</td>\n",
       "      <td>B000FA64PA</td>\n",
       "      <td>[0, 0]</td>\n",
       "      <td>5</td>\n",
       "      <td>Darth Maul working under cloak of darkness com...</td>\n",
       "      <td>10 11, 2013</td>\n",
       "      <td>A1UG4Q4D3OAH3A</td>\n",
       "      <td>dsa</td>\n",
       "      <td>Darth Maul</td>\n",
       "      <td>1381449600</td>\n",
       "    </tr>\n",
       "    <tr>\n",
       "      <th>9</th>\n",
       "      <td>9</td>\n",
       "      <td>B000FA64PA</td>\n",
       "      <td>[0, 0]</td>\n",
       "      <td>4</td>\n",
       "      <td>This is a short story focused on Darth Maul's ...</td>\n",
       "      <td>02 13, 2011</td>\n",
       "      <td>AQZH7YTWQPOBE</td>\n",
       "      <td>Enjolras</td>\n",
       "      <td>Not bad, not exceptional</td>\n",
       "      <td>1297555200</td>\n",
       "    </tr>\n",
       "  </tbody>\n",
       "</table>\n",
       "</div>"
      ],
      "text/plain": [
       "   Unnamed: 0        asin helpful  overall  \\\n",
       "0           0  B000F83SZQ  [0, 0]        5   \n",
       "1           1  B000F83SZQ  [2, 2]        4   \n",
       "2           2  B000F83SZQ  [2, 2]        4   \n",
       "3           3  B000F83SZQ  [1, 1]        5   \n",
       "4           4  B000F83SZQ  [0, 1]        4   \n",
       "5           5  B000F83SZQ  [0, 0]        4   \n",
       "6           6  B000F83SZQ  [0, 0]        4   \n",
       "7           7  B000F83SZQ  [1, 1]        4   \n",
       "8           8  B000FA64PA  [0, 0]        5   \n",
       "9           9  B000FA64PA  [0, 0]        4   \n",
       "\n",
       "                                          reviewText   reviewTime  \\\n",
       "0  I enjoy vintage books and movies so I enjoyed ...   05 5, 2014   \n",
       "1  This book is a reissue of an old one; the auth...   01 6, 2014   \n",
       "2  This was a fairly interesting read.  It had ol...   04 4, 2014   \n",
       "3  I'd never read any of the Amy Brewster mysteri...  02 19, 2014   \n",
       "4  If you like period pieces - clothing, lingo, y...  03 19, 2014   \n",
       "5  A beautiful in-depth character description mak...  05 26, 2014   \n",
       "6  I enjoyed this one tho I'm not sure why it's c...  06 10, 2014   \n",
       "7  Never heard of Amy Brewster. But I don't need ...  03 22, 2014   \n",
       "8  Darth Maul working under cloak of darkness com...  10 11, 2013   \n",
       "9  This is a short story focused on Darth Maul's ...  02 13, 2011   \n",
       "\n",
       "       reviewerID                         reviewerName  \\\n",
       "0  A1F6404F1VG29J                           Avidreader   \n",
       "1   AN0N05A9LIJEQ                             critters   \n",
       "2   A795DMNCJILA6                                  dot   \n",
       "3  A1FV0SX13TWVXQ  Elaine H. Turley \"Montana Songbird\"   \n",
       "4  A3SPTOKDG7WBLN                   Father Dowling Fan   \n",
       "5  A1RK2OCZDSGC6R                     ubavka seirovska   \n",
       "6  A2HSAKHC3IBRE6                             Wolfmist   \n",
       "7  A3DE6XGZ2EPADS                                  WPY   \n",
       "8  A1UG4Q4D3OAH3A                                  dsa   \n",
       "9   AQZH7YTWQPOBE                             Enjolras   \n",
       "\n",
       "                                         summary  unixReviewTime  \n",
       "0                             Nice vintage story      1399248000  \n",
       "1                                   Different...      1388966400  \n",
       "2                                          Oldie      1396569600  \n",
       "3                             I really liked it.      1392768000  \n",
       "4                                 Period Mystery      1395187200  \n",
       "5                                         Review      1401062400  \n",
       "6                       Nice old fashioned story      1402358400  \n",
       "7  Enjoyable reading and reminding the old times      1395446400  \n",
       "8                                     Darth Maul      1381449600  \n",
       "9                       Not bad, not exceptional      1297555200  "
      ]
     },
     "execution_count": 2,
     "metadata": {},
     "output_type": "execute_result"
    }
   ],
   "source": [
    "df.head(10)   # here i check data by using head function also we pass perameter in integer value "
   ]
  },
  {
   "cell_type": "code",
   "execution_count": 3,
   "id": "steady-glossary",
   "metadata": {},
   "outputs": [
    {
     "data": {
      "text/plain": [
       "982619"
      ]
     },
     "execution_count": 3,
     "metadata": {},
     "output_type": "execute_result"
    }
   ],
   "source": [
    "len(df)   # here i check the lenght "
   ]
  },
  {
   "cell_type": "code",
   "execution_count": 4,
   "id": "medium-italic",
   "metadata": {},
   "outputs": [
    {
     "data": {
      "text/plain": [
       "Unnamed: 0           0\n",
       "asin                 0\n",
       "helpful              0\n",
       "overall              0\n",
       "reviewText          22\n",
       "reviewTime           0\n",
       "reviewerID           0\n",
       "reviewerName      3816\n",
       "summary              1\n",
       "unixReviewTime       0\n",
       "dtype: int64"
      ]
     },
     "execution_count": 4,
     "metadata": {},
     "output_type": "execute_result"
    }
   ],
   "source": [
    "df.isnull().sum()   "
   ]
  },
  {
   "cell_type": "code",
   "execution_count": 5,
   "id": "documented-scott",
   "metadata": {},
   "outputs": [
    {
     "data": {
      "text/html": [
       "<div>\n",
       "<style scoped>\n",
       "    .dataframe tbody tr th:only-of-type {\n",
       "        vertical-align: middle;\n",
       "    }\n",
       "\n",
       "    .dataframe tbody tr th {\n",
       "        vertical-align: top;\n",
       "    }\n",
       "\n",
       "    .dataframe thead th {\n",
       "        text-align: right;\n",
       "    }\n",
       "</style>\n",
       "<table border=\"1\" class=\"dataframe\">\n",
       "  <thead>\n",
       "    <tr style=\"text-align: right;\">\n",
       "      <th></th>\n",
       "      <th>Unnamed: 0</th>\n",
       "      <th>asin</th>\n",
       "      <th>helpful</th>\n",
       "      <th>overall</th>\n",
       "      <th>reviewText</th>\n",
       "      <th>reviewTime</th>\n",
       "      <th>reviewerID</th>\n",
       "      <th>reviewerName</th>\n",
       "      <th>summary</th>\n",
       "      <th>unixReviewTime</th>\n",
       "      <th>Year</th>\n",
       "    </tr>\n",
       "  </thead>\n",
       "  <tbody>\n",
       "    <tr>\n",
       "      <th>0</th>\n",
       "      <td>0</td>\n",
       "      <td>B000F83SZQ</td>\n",
       "      <td>[0, 0]</td>\n",
       "      <td>5</td>\n",
       "      <td>I enjoy vintage books and movies so I enjoyed ...</td>\n",
       "      <td>2014-05-05</td>\n",
       "      <td>A1F6404F1VG29J</td>\n",
       "      <td>Avidreader</td>\n",
       "      <td>Nice vintage story</td>\n",
       "      <td>1399248000</td>\n",
       "      <td>2014</td>\n",
       "    </tr>\n",
       "    <tr>\n",
       "      <th>1</th>\n",
       "      <td>1</td>\n",
       "      <td>B000F83SZQ</td>\n",
       "      <td>[2, 2]</td>\n",
       "      <td>4</td>\n",
       "      <td>This book is a reissue of an old one; the auth...</td>\n",
       "      <td>2014-01-06</td>\n",
       "      <td>AN0N05A9LIJEQ</td>\n",
       "      <td>critters</td>\n",
       "      <td>Different...</td>\n",
       "      <td>1388966400</td>\n",
       "      <td>2014</td>\n",
       "    </tr>\n",
       "    <tr>\n",
       "      <th>2</th>\n",
       "      <td>2</td>\n",
       "      <td>B000F83SZQ</td>\n",
       "      <td>[2, 2]</td>\n",
       "      <td>4</td>\n",
       "      <td>This was a fairly interesting read.  It had ol...</td>\n",
       "      <td>2014-04-04</td>\n",
       "      <td>A795DMNCJILA6</td>\n",
       "      <td>dot</td>\n",
       "      <td>Oldie</td>\n",
       "      <td>1396569600</td>\n",
       "      <td>2014</td>\n",
       "    </tr>\n",
       "    <tr>\n",
       "      <th>3</th>\n",
       "      <td>3</td>\n",
       "      <td>B000F83SZQ</td>\n",
       "      <td>[1, 1]</td>\n",
       "      <td>5</td>\n",
       "      <td>I'd never read any of the Amy Brewster mysteri...</td>\n",
       "      <td>2014-02-19</td>\n",
       "      <td>A1FV0SX13TWVXQ</td>\n",
       "      <td>Elaine H. Turley \"Montana Songbird\"</td>\n",
       "      <td>I really liked it.</td>\n",
       "      <td>1392768000</td>\n",
       "      <td>2014</td>\n",
       "    </tr>\n",
       "    <tr>\n",
       "      <th>4</th>\n",
       "      <td>4</td>\n",
       "      <td>B000F83SZQ</td>\n",
       "      <td>[0, 1]</td>\n",
       "      <td>4</td>\n",
       "      <td>If you like period pieces - clothing, lingo, y...</td>\n",
       "      <td>2014-03-19</td>\n",
       "      <td>A3SPTOKDG7WBLN</td>\n",
       "      <td>Father Dowling Fan</td>\n",
       "      <td>Period Mystery</td>\n",
       "      <td>1395187200</td>\n",
       "      <td>2014</td>\n",
       "    </tr>\n",
       "    <tr>\n",
       "      <th>5</th>\n",
       "      <td>5</td>\n",
       "      <td>B000F83SZQ</td>\n",
       "      <td>[0, 0]</td>\n",
       "      <td>4</td>\n",
       "      <td>A beautiful in-depth character description mak...</td>\n",
       "      <td>2014-05-26</td>\n",
       "      <td>A1RK2OCZDSGC6R</td>\n",
       "      <td>ubavka seirovska</td>\n",
       "      <td>Review</td>\n",
       "      <td>1401062400</td>\n",
       "      <td>2014</td>\n",
       "    </tr>\n",
       "    <tr>\n",
       "      <th>6</th>\n",
       "      <td>6</td>\n",
       "      <td>B000F83SZQ</td>\n",
       "      <td>[0, 0]</td>\n",
       "      <td>4</td>\n",
       "      <td>I enjoyed this one tho I'm not sure why it's c...</td>\n",
       "      <td>2014-06-10</td>\n",
       "      <td>A2HSAKHC3IBRE6</td>\n",
       "      <td>Wolfmist</td>\n",
       "      <td>Nice old fashioned story</td>\n",
       "      <td>1402358400</td>\n",
       "      <td>2014</td>\n",
       "    </tr>\n",
       "  </tbody>\n",
       "</table>\n",
       "</div>"
      ],
      "text/plain": [
       "   Unnamed: 0        asin helpful  overall  \\\n",
       "0           0  B000F83SZQ  [0, 0]        5   \n",
       "1           1  B000F83SZQ  [2, 2]        4   \n",
       "2           2  B000F83SZQ  [2, 2]        4   \n",
       "3           3  B000F83SZQ  [1, 1]        5   \n",
       "4           4  B000F83SZQ  [0, 1]        4   \n",
       "5           5  B000F83SZQ  [0, 0]        4   \n",
       "6           6  B000F83SZQ  [0, 0]        4   \n",
       "\n",
       "                                          reviewText reviewTime  \\\n",
       "0  I enjoy vintage books and movies so I enjoyed ... 2014-05-05   \n",
       "1  This book is a reissue of an old one; the auth... 2014-01-06   \n",
       "2  This was a fairly interesting read.  It had ol... 2014-04-04   \n",
       "3  I'd never read any of the Amy Brewster mysteri... 2014-02-19   \n",
       "4  If you like period pieces - clothing, lingo, y... 2014-03-19   \n",
       "5  A beautiful in-depth character description mak... 2014-05-26   \n",
       "6  I enjoyed this one tho I'm not sure why it's c... 2014-06-10   \n",
       "\n",
       "       reviewerID                         reviewerName  \\\n",
       "0  A1F6404F1VG29J                           Avidreader   \n",
       "1   AN0N05A9LIJEQ                             critters   \n",
       "2   A795DMNCJILA6                                  dot   \n",
       "3  A1FV0SX13TWVXQ  Elaine H. Turley \"Montana Songbird\"   \n",
       "4  A3SPTOKDG7WBLN                   Father Dowling Fan   \n",
       "5  A1RK2OCZDSGC6R                     ubavka seirovska   \n",
       "6  A2HSAKHC3IBRE6                             Wolfmist   \n",
       "\n",
       "                    summary  unixReviewTime  Year  \n",
       "0        Nice vintage story      1399248000  2014  \n",
       "1              Different...      1388966400  2014  \n",
       "2                     Oldie      1396569600  2014  \n",
       "3        I really liked it.      1392768000  2014  \n",
       "4            Period Mystery      1395187200  2014  \n",
       "5                    Review      1401062400  2014  \n",
       "6  Nice old fashioned story      1402358400  2014  "
      ]
     },
     "execution_count": 5,
     "metadata": {},
     "output_type": "execute_result"
    }
   ],
   "source": [
    "#drop the rows where there are no reviews\n",
    "df.dropna(subset = ['reviewText'], inplace = True)\n",
    "\n",
    "#changing the reviewTime column to be of datetime type\n",
    "df.reviewTime = pd.to_datetime(df.reviewTime)\n",
    "\n",
    "#creating a column with just the year so in this way we can also easily find review of each years\n",
    "df['Year'] = df.reviewTime.dt.year\n",
    "\n",
    "#show 7 top value of each row \n",
    "df.head(7)"
   ]
  },
  {
   "cell_type": "markdown",
   "id": "mobile-excuse",
   "metadata": {},
   "source": [
    "# Analyse data with graphically representation"
   ]
  },
  {
   "cell_type": "code",
   "execution_count": 6,
   "id": "musical-novel",
   "metadata": {},
   "outputs": [
    {
     "data": {
      "image/png": "[encoded data removed]",
      "text/plain": [
       "<Figure size 432x288 with 1 Axes>"
      ]
     },
     "metadata": {
      "needs_background": "light"
     },
     "output_type": "display_data"
    }
   ],
   "source": [
    "import matplotlib.pyplot as plt  # for graphically representation \n",
    "df.Year.value_counts().sort_index().plot(kind = 'bar')  \n",
    "plt.title('Number of Reviews per Year')\n",
    "plt.xlabel('Year')\n",
    "plt.ylabel('Number of Reviews')\n",
    "plt.show()"
   ]
  },
  {
   "cell_type": "code",
   "execution_count": 7,
   "id": "impressed-destruction",
   "metadata": {},
   "outputs": [
    {
     "data": {
      "image/png": "[encoded data removed]",
      "text/plain": [
       "<Figure size 432x288 with 1 Axes>"
      ]
     },
     "metadata": {
      "needs_background": "light"
     },
     "output_type": "display_data"
    }
   ],
   "source": [
    "df.overall.value_counts().plot(kind = 'bar')\n",
    "plt.title('Number of Good Ratings vs Bad Ratings')\n",
    "plt.xlabel('Rating Scales')\n",
    "plt.xticks(rotation = 0)\n",
    "plt.ylabel('Total ratings')\n",
    "plt.show()"
   ]
  },
  {
   "cell_type": "markdown",
   "id": "alike-dance",
   "metadata": {},
   "source": [
    "# Data Preparation"
   ]
  },
  {
   "cell_type": "code",
   "execution_count": 8,
   "id": "minute-thought",
   "metadata": {},
   "outputs": [],
   "source": [
    "del df['Unnamed: 0']\n",
    "del df['asin']         # here i delete All unless column\n",
    "del df['helpful']\n",
    "del df['reviewTime']\n",
    "del df['reviewerID']\n",
    "del df['reviewerName']\n",
    "del df['unixReviewTime']\n",
    "del df['Year'] "
   ]
  },
  {
   "cell_type": "code",
   "execution_count": 9,
   "id": "logical-tsunami",
   "metadata": {},
   "outputs": [
    {
     "name": "stdout",
     "output_type": "stream",
     "text": [
      "<class 'pandas.core.frame.DataFrame'>\n",
      "Int64Index: 982597 entries, 0 to 982618\n",
      "Data columns (total 3 columns):\n",
      " #   Column      Non-Null Count   Dtype \n",
      "---  ------      --------------   ----- \n",
      " 0   overall     982597 non-null  int64 \n",
      " 1   reviewText  982597 non-null  object\n",
      " 2   summary     982596 non-null  object\n",
      "dtypes: int64(1), object(2)\n",
      "memory usage: 30.0+ MB\n"
     ]
    }
   ],
   "source": [
    "df.info() "
   ]
  },
  {
   "cell_type": "code",
   "execution_count": 10,
   "id": "understanding-venezuela",
   "metadata": {},
   "outputs": [
    {
     "data": {
      "text/html": [
       "<div>\n",
       "<style scoped>\n",
       "    .dataframe tbody tr th:only-of-type {\n",
       "        vertical-align: middle;\n",
       "    }\n",
       "\n",
       "    .dataframe tbody tr th {\n",
       "        vertical-align: top;\n",
       "    }\n",
       "\n",
       "    .dataframe thead th {\n",
       "        text-align: right;\n",
       "    }\n",
       "</style>\n",
       "<table border=\"1\" class=\"dataframe\">\n",
       "  <thead>\n",
       "    <tr style=\"text-align: right;\">\n",
       "      <th></th>\n",
       "      <th>overall</th>\n",
       "      <th>reviewText</th>\n",
       "      <th>summary</th>\n",
       "    </tr>\n",
       "  </thead>\n",
       "  <tbody>\n",
       "    <tr>\n",
       "      <th>0</th>\n",
       "      <td>5</td>\n",
       "      <td>I enjoy vintage books and movies so I enjoyed ...</td>\n",
       "      <td>Nice vintage story</td>\n",
       "    </tr>\n",
       "    <tr>\n",
       "      <th>1</th>\n",
       "      <td>4</td>\n",
       "      <td>This book is a reissue of an old one; the auth...</td>\n",
       "      <td>Different...</td>\n",
       "    </tr>\n",
       "    <tr>\n",
       "      <th>2</th>\n",
       "      <td>4</td>\n",
       "      <td>This was a fairly interesting read.  It had ol...</td>\n",
       "      <td>Oldie</td>\n",
       "    </tr>\n",
       "    <tr>\n",
       "      <th>3</th>\n",
       "      <td>5</td>\n",
       "      <td>I'd never read any of the Amy Brewster mysteri...</td>\n",
       "      <td>I really liked it.</td>\n",
       "    </tr>\n",
       "    <tr>\n",
       "      <th>4</th>\n",
       "      <td>4</td>\n",
       "      <td>If you like period pieces - clothing, lingo, y...</td>\n",
       "      <td>Period Mystery</td>\n",
       "    </tr>\n",
       "    <tr>\n",
       "      <th>5</th>\n",
       "      <td>4</td>\n",
       "      <td>A beautiful in-depth character description mak...</td>\n",
       "      <td>Review</td>\n",
       "    </tr>\n",
       "    <tr>\n",
       "      <th>6</th>\n",
       "      <td>4</td>\n",
       "      <td>I enjoyed this one tho I'm not sure why it's c...</td>\n",
       "      <td>Nice old fashioned story</td>\n",
       "    </tr>\n",
       "    <tr>\n",
       "      <th>7</th>\n",
       "      <td>4</td>\n",
       "      <td>Never heard of Amy Brewster. But I don't need ...</td>\n",
       "      <td>Enjoyable reading and reminding the old times</td>\n",
       "    </tr>\n",
       "    <tr>\n",
       "      <th>8</th>\n",
       "      <td>5</td>\n",
       "      <td>Darth Maul working under cloak of darkness com...</td>\n",
       "      <td>Darth Maul</td>\n",
       "    </tr>\n",
       "    <tr>\n",
       "      <th>9</th>\n",
       "      <td>4</td>\n",
       "      <td>This is a short story focused on Darth Maul's ...</td>\n",
       "      <td>Not bad, not exceptional</td>\n",
       "    </tr>\n",
       "  </tbody>\n",
       "</table>\n",
       "</div>"
      ],
      "text/plain": [
       "   overall                                         reviewText  \\\n",
       "0        5  I enjoy vintage books and movies so I enjoyed ...   \n",
       "1        4  This book is a reissue of an old one; the auth...   \n",
       "2        4  This was a fairly interesting read.  It had ol...   \n",
       "3        5  I'd never read any of the Amy Brewster mysteri...   \n",
       "4        4  If you like period pieces - clothing, lingo, y...   \n",
       "5        4  A beautiful in-depth character description mak...   \n",
       "6        4  I enjoyed this one tho I'm not sure why it's c...   \n",
       "7        4  Never heard of Amy Brewster. But I don't need ...   \n",
       "8        5  Darth Maul working under cloak of darkness com...   \n",
       "9        4  This is a short story focused on Darth Maul's ...   \n",
       "\n",
       "                                         summary  \n",
       "0                             Nice vintage story  \n",
       "1                                   Different...  \n",
       "2                                          Oldie  \n",
       "3                             I really liked it.  \n",
       "4                                 Period Mystery  \n",
       "5                                         Review  \n",
       "6                       Nice old fashioned story  \n",
       "7  Enjoyable reading and reminding the old times  \n",
       "8                                     Darth Maul  \n",
       "9                       Not bad, not exceptional  "
      ]
     },
     "execution_count": 10,
     "metadata": {},
     "output_type": "execute_result"
    }
   ],
   "source": [
    "df.head(10)"
   ]
  },
  {
   "cell_type": "code",
   "execution_count": 11,
   "id": "funky-haiti",
   "metadata": {},
   "outputs": [],
   "source": [
    "df['reviewText'] = df['reviewText'] + ' ' + df['summary']  # i combine here summery and reviewText "
   ]
  },
  {
   "cell_type": "code",
   "execution_count": 12,
   "id": "oriental-greensboro",
   "metadata": {},
   "outputs": [],
   "source": [
    "del df['summary']  "
   ]
  },
  {
   "cell_type": "code",
   "execution_count": 13,
   "id": "pacific-serve",
   "metadata": {},
   "outputs": [
    {
     "data": {
      "text/html": [
       "<div>\n",
       "<style scoped>\n",
       "    .dataframe tbody tr th:only-of-type {\n",
       "        vertical-align: middle;\n",
       "    }\n",
       "\n",
       "    .dataframe tbody tr th {\n",
       "        vertical-align: top;\n",
       "    }\n",
       "\n",
       "    .dataframe thead th {\n",
       "        text-align: right;\n",
       "    }\n",
       "</style>\n",
       "<table border=\"1\" class=\"dataframe\">\n",
       "  <thead>\n",
       "    <tr style=\"text-align: right;\">\n",
       "      <th></th>\n",
       "      <th>overall</th>\n",
       "      <th>reviewText</th>\n",
       "    </tr>\n",
       "  </thead>\n",
       "  <tbody>\n",
       "    <tr>\n",
       "      <th>0</th>\n",
       "      <td>5</td>\n",
       "      <td>I enjoy vintage books and movies so I enjoyed ...</td>\n",
       "    </tr>\n",
       "    <tr>\n",
       "      <th>1</th>\n",
       "      <td>4</td>\n",
       "      <td>This book is a reissue of an old one; the auth...</td>\n",
       "    </tr>\n",
       "    <tr>\n",
       "      <th>2</th>\n",
       "      <td>4</td>\n",
       "      <td>This was a fairly interesting read.  It had ol...</td>\n",
       "    </tr>\n",
       "    <tr>\n",
       "      <th>3</th>\n",
       "      <td>5</td>\n",
       "      <td>I'd never read any of the Amy Brewster mysteri...</td>\n",
       "    </tr>\n",
       "    <tr>\n",
       "      <th>4</th>\n",
       "      <td>4</td>\n",
       "      <td>If you like period pieces - clothing, lingo, y...</td>\n",
       "    </tr>\n",
       "    <tr>\n",
       "      <th>5</th>\n",
       "      <td>4</td>\n",
       "      <td>A beautiful in-depth character description mak...</td>\n",
       "    </tr>\n",
       "    <tr>\n",
       "      <th>6</th>\n",
       "      <td>4</td>\n",
       "      <td>I enjoyed this one tho I'm not sure why it's c...</td>\n",
       "    </tr>\n",
       "    <tr>\n",
       "      <th>7</th>\n",
       "      <td>4</td>\n",
       "      <td>Never heard of Amy Brewster. But I don't need ...</td>\n",
       "    </tr>\n",
       "    <tr>\n",
       "      <th>8</th>\n",
       "      <td>5</td>\n",
       "      <td>Darth Maul working under cloak of darkness com...</td>\n",
       "    </tr>\n",
       "    <tr>\n",
       "      <th>9</th>\n",
       "      <td>4</td>\n",
       "      <td>This is a short story focused on Darth Maul's ...</td>\n",
       "    </tr>\n",
       "  </tbody>\n",
       "</table>\n",
       "</div>"
      ],
      "text/plain": [
       "   overall                                         reviewText\n",
       "0        5  I enjoy vintage books and movies so I enjoyed ...\n",
       "1        4  This book is a reissue of an old one; the auth...\n",
       "2        4  This was a fairly interesting read.  It had ol...\n",
       "3        5  I'd never read any of the Amy Brewster mysteri...\n",
       "4        4  If you like period pieces - clothing, lingo, y...\n",
       "5        4  A beautiful in-depth character description mak...\n",
       "6        4  I enjoyed this one tho I'm not sure why it's c...\n",
       "7        4  Never heard of Amy Brewster. But I don't need ...\n",
       "8        5  Darth Maul working under cloak of darkness com...\n",
       "9        4  This is a short story focused on Darth Maul's ..."
      ]
     },
     "execution_count": 13,
     "metadata": {},
     "output_type": "execute_result"
    }
   ],
   "source": [
    "df.head(10)"
   ]
  },
  {
   "cell_type": "code",
   "execution_count": 14,
   "id": "cutting-worthy",
   "metadata": {},
   "outputs": [],
   "source": [
    "def review_sentiment(rating): \n",
    "    # Replacing rating of 1,2,3 with 0(not good) and 4,5 with 1(good) \n",
    "    if(rating == 1 or rating == 2 or rating == 3):\n",
    "        return 0\n",
    "    else:\n",
    "        return 1"
   ]
  },
  {
   "cell_type": "code",
   "execution_count": 15,
   "id": "portable-radar",
   "metadata": {},
   "outputs": [
    {
     "data": {
      "text/html": [
       "<div>\n",
       "<style scoped>\n",
       "    .dataframe tbody tr th:only-of-type {\n",
       "        vertical-align: middle;\n",
       "    }\n",
       "\n",
       "    .dataframe tbody tr th {\n",
       "        vertical-align: top;\n",
       "    }\n",
       "\n",
       "    .dataframe thead th {\n",
       "        text-align: right;\n",
       "    }\n",
       "</style>\n",
       "<table border=\"1\" class=\"dataframe\">\n",
       "  <thead>\n",
       "    <tr style=\"text-align: right;\">\n",
       "      <th></th>\n",
       "      <th>overall</th>\n",
       "      <th>reviewText</th>\n",
       "    </tr>\n",
       "  </thead>\n",
       "  <tbody>\n",
       "    <tr>\n",
       "      <th>0</th>\n",
       "      <td>1</td>\n",
       "      <td>I enjoy vintage books and movies so I enjoyed ...</td>\n",
       "    </tr>\n",
       "    <tr>\n",
       "      <th>1</th>\n",
       "      <td>1</td>\n",
       "      <td>This book is a reissue of an old one; the auth...</td>\n",
       "    </tr>\n",
       "    <tr>\n",
       "      <th>2</th>\n",
       "      <td>1</td>\n",
       "      <td>This was a fairly interesting read.  It had ol...</td>\n",
       "    </tr>\n",
       "    <tr>\n",
       "      <th>3</th>\n",
       "      <td>1</td>\n",
       "      <td>I'd never read any of the Amy Brewster mysteri...</td>\n",
       "    </tr>\n",
       "    <tr>\n",
       "      <th>4</th>\n",
       "      <td>1</td>\n",
       "      <td>If you like period pieces - clothing, lingo, y...</td>\n",
       "    </tr>\n",
       "  </tbody>\n",
       "</table>\n",
       "</div>"
      ],
      "text/plain": [
       "   overall                                         reviewText\n",
       "0        1  I enjoy vintage books and movies so I enjoyed ...\n",
       "1        1  This book is a reissue of an old one; the auth...\n",
       "2        1  This was a fairly interesting read.  It had ol...\n",
       "3        1  I'd never read any of the Amy Brewster mysteri...\n",
       "4        1  If you like period pieces - clothing, lingo, y..."
      ]
     },
     "execution_count": 15,
     "metadata": {},
     "output_type": "execute_result"
    }
   ],
   "source": [
    "df.overall = df.overall.apply(review_sentiment)\n",
    "df.head()"
   ]
  },
  {
   "cell_type": "code",
   "execution_count": 16,
   "id": "scenic-postage",
   "metadata": {},
   "outputs": [
    {
     "data": {
      "text/plain": [
       "1    829256\n",
       "0    153341\n",
       "Name: overall, dtype: int64"
      ]
     },
     "execution_count": 16,
     "metadata": {},
     "output_type": "execute_result"
    }
   ],
   "source": [
    "df.overall.value_counts()"
   ]
  },
  {
   "cell_type": "code",
   "execution_count": 17,
   "id": "micro-force",
   "metadata": {},
   "outputs": [
    {
     "data": {
      "text/plain": [
       "overall       0\n",
       "reviewText    1\n",
       "dtype: int64"
      ]
     },
     "execution_count": 17,
     "metadata": {},
     "output_type": "execute_result"
    }
   ],
   "source": [
    "df.isnull().sum() # check missing value"
   ]
  },
  {
   "cell_type": "code",
   "execution_count": 18,
   "id": "horizontal-translator",
   "metadata": {},
   "outputs": [],
   "source": [
    "#drop the rows where there are no reviews\n",
    "df.dropna(subset = ['reviewText'], inplace = True)"
   ]
  },
  {
   "cell_type": "code",
   "execution_count": 19,
   "id": "unlimited-madison",
   "metadata": {},
   "outputs": [
    {
     "data": {
      "text/plain": [
       "overall       0\n",
       "reviewText    0\n",
       "dtype: int64"
      ]
     },
     "execution_count": 19,
     "metadata": {},
     "output_type": "execute_result"
    }
   ],
   "source": [
    "df.isnull().sum()"
   ]
  },
  {
   "cell_type": "markdown",
   "id": "indonesian-twins",
   "metadata": {},
   "source": [
    "# Train Test Split"
   ]
  },
  {
   "cell_type": "code",
   "execution_count": 20,
   "id": "special-index",
   "metadata": {},
   "outputs": [
    {
     "name": "stdout",
     "output_type": "stream",
     "text": [
      "Load 884336 training examples and 98260 validation examples. \n",
      "\n",
      "Show a review in the training set : \n",
      " Really enjoyed the main characters. This is definitely a feel good story that is believable and still manages to have a good ending. I hope this author has another book out soon. Great Story.\n"
     ]
    },
    {
     "data": {
      "text/plain": [
       "(601734    I have read all of the Cain books by TR Harris...\n",
       " 29533     Man I didn't want it to end. I wish it would h...\n",
       " 822155    I enjoyed the comedy and dialog a lot! I also ...\n",
       " 78824     All three books are light, fun reads and highl...\n",
       " 828921    I'm so excited and happy for Adam and Taylor. ...\n",
       "                                 ...                        \n",
       " 152317    I hadn't read any westerns before The Marker c...\n",
       " 963418    Kate is a genealogist who assists Ivor in sear...\n",
       " 117953    I am truly amazed at how much I am enjoying th...\n",
       " 435841    Just what I needed to get me back in the writi...\n",
       " 305717    Once again, Zoe Saadia has managed to create a...\n",
       " Name: reviewText, Length: 884336, dtype: object,\n",
       " 601734    1\n",
       " 29533     1\n",
       " 822155    1\n",
       " 78824     1\n",
       " 828921    1\n",
       "          ..\n",
       " 152317    1\n",
       " 963418    1\n",
       " 117953    1\n",
       " 435841    1\n",
       " 305717    1\n",
       " Name: overall, Length: 884336, dtype: int64)"
      ]
     },
     "execution_count": 20,
     "metadata": {},
     "output_type": "execute_result"
    }
   ],
   "source": [
    "from sklearn.model_selection import train_test_split\n",
    "X_train, X_test, y_train, y_test = train_test_split(df['reviewText'], df['overall'], \\\n",
    "                                                    test_size=0.1, random_state=0)\n",
    "\n",
    "print('Load %d training examples and %d validation examples. \\n' %(X_train.shape[0],X_test.shape[0]))\n",
    "print('Show a review in the training set : \\n', X_train.iloc[10])\n",
    "X_train,y_train"
   ]
  },
  {
   "cell_type": "markdown",
   "id": "baking-marketing",
   "metadata": {},
   "source": [
    "# Text Preprocessing"
   ]
  },
  {
   "cell_type": "code",
   "execution_count": 21,
   "id": "champion-management",
   "metadata": {},
   "outputs": [],
   "source": [
    "def cleanText(raw_text, remove_stopwords=False, stemming=False, split_text=False, \\\n",
    "             ):\n",
    "    '''\n",
    "    Convert a raw review to a cleaned review\n",
    "    '''\n",
    "    text = BeautifulSoup(raw_text, 'html.parser').get_text()\n",
    "    letters_only = re.sub(\"[^a-zA-Z]\", \" \", text)\n",
    "    words = letters_only.lower().split() \n",
    "    \n",
    "    if remove_stopwords:\n",
    "        stops = set(stopwords.words(\"english\"))\n",
    "        words = [w for w in words if not w in stops]\n",
    "        \n",
    "    if stemming==True:\n",
    "\n",
    "        stemmer = SnowballStemmer('english') \n",
    "        words = [stemmer.stem(w) for w in words]\n",
    "        \n",
    "    if split_text==True:\n",
    "        return (words)\n",
    "    \n",
    "    return( \" \".join(words))"
   ]
  },
  {
   "cell_type": "code",
   "execution_count": 22,
   "id": "recovered-bolivia",
   "metadata": {},
   "outputs": [
    {
     "name": "stdout",
     "output_type": "stream",
     "text": [
      "Show a cleaned review in the training set : \n",
      " really enjoyed the main characters this is definitely a feel good story that is believable and still manages to have a good ending i hope this author has another book out soon great story\n"
     ]
    }
   ],
   "source": [
    "import re\n",
    "import nltk\n",
    "from nltk.corpus import stopwords \n",
    "from nltk.stem.porter import PorterStemmer\n",
    "from nltk.stem import SnowballStemmer, WordNetLemmatizer\n",
    "from nltk import sent_tokenize, word_tokenize, pos_tag\n",
    "from bs4 import BeautifulSoup \n",
    "import logging\n",
    "from wordcloud import WordCloud\n",
    "from gensim.models import word2vec\n",
    "from gensim.models import Word2Vec\n",
    "from gensim.models.keyedvectors import KeyedVectors\n",
    "\n",
    "X_train_cleaned = []\n",
    "X_test_cleaned = []\n",
    "\n",
    "for d in X_train:\n",
    "    X_train_cleaned.append(cleanText(d))\n",
    "print('Show a cleaned review in the training set : \\n',  X_train_cleaned[10])\n",
    "    \n",
    "for d in X_test:\n",
    "    X_test_cleaned.append(cleanText(d))"
   ]
  },
  {
   "cell_type": "markdown",
   "id": "fatty-passenger",
   "metadata": {},
   "source": [
    "# CountVectorizer with Mulinomial Naive Bayes "
   ]
  },
  {
   "cell_type": "code",
   "execution_count": 25,
   "id": "clinical-allowance",
   "metadata": {},
   "outputs": [
    {
     "name": "stdout",
     "output_type": "stream",
     "text": [
      "Number of features : 263110 \n",
      "\n",
      "Show some feature names : \n",
      " ['aa', 'abrey', 'acquired', 'adrains', 'afun', 'aisberg', 'aliens', 'alsoppublished', 'amielian', 'andex', 'angriff', 'antiquities', 'appr', 'ariaaria', 'ascerbic', 'asults', 'augmentation', 'avgolemono', 'babyyyyy', 'ballplayers', 'bash', 'beautfuil', 'behet', 'beong', 'bewei', 'birner', 'blevinsfirst', 'bluschencko', 'bookdehumanized', 'boredi', 'brainstem', 'bridgeby', 'broz', 'bunelli', 'byevil', 'calledtrick', 'capitavting', 'carrstars', 'caustically', 'chaicago', 'charicterized', 'cherice', 'choregraphed', 'cirrhosis', 'clifftop', 'cognitively', 'comever', 'compotes', 'conjurers', 'continuig', 'cordiality', 'course', 'creationism', 'cruelly', 'custas', 'damir', 'datsun', 'debonair', 'defrauds', 'demonas', 'desecrated', 'devers', 'diffantly', 'disapppointed', 'dissidence', 'doisneau', 'doula', 'dreamlover', 'dukeinspired', 'ealen', 'editorials', 'eithet', 'emabarrassing', 'encoure', 'enoughof', 'epm', 'escrow', 'eventsthat', 'excrements', 'extenuation', 'fairweather', 'fargenstopple', 'fedora', 'fianl', 'finwip', 'fleeced', 'followwell', 'forsword', 'freebirds', 'frosta', 'fynn', 'garini', 'geneology', 'ggggreat', 'givre', 'goi', 'gourds', 'greatfor', 'groveled', 'guyana', 'halpful', 'hardman', 'havelost', 'heaters', 'hemmed', 'hetty', 'hippogryphs', 'hollowrock', 'horrific', 'hubcaps', 'hydrophobia', 'iho', 'impecible', 'incredible', 'infrequent', 'inskeletons', 'internaly', 'involing', 'isreals', 'jackso', 'javelinas', 'jewels', 'josette', 'jwreinhold', 'kaste', 'kelon', 'kidsonly', 'kissless', 'komet', 'kurlig', 'lanc', 'laught', 'leeann', 'leuten', 'lightyear', 'lira', 'locking', 'loong', 'loversand', 'lushy', 'macounselor', 'makeregardless', 'mannerisms', 'marmeduke', 'matteri', 'mchotpants', 'meem', 'mer', 'michellekcanada', 'mindshaping', 'mistauthor', 'momentumbut', 'morefield', 'mowing', 'murse', 'nadir', 'navwas', 'neros', 'nickii', 'noddingdon', 'notknow', 'nutritions', 'odviously', 'oivia', 'onlinejake', 'orcasey', 'oticians', 'overlong', 'paigeturner', 'paranormanal', 'patrickby', 'penguin', 'personality', 'phlebotomist', 'pinksa', 'pleeease', 'polyandrous', 'potentials', 'preisgeben', 'principality', 'properlygood', 'ptologue', 'pusketeer', 'quilting', 'raintree', 'rave', 'readingyesterday', 'recapitulation', 'redhead', 'reidi', 'remodels', 'resignation', 'reviewbunnitaworth', 'rhoden', 'rittney', 'romanantic', 'roumania', 'rutkoski', 'salaryman', 'sarceda', 'scapulas', 'sciifi', 'seatshaking', 'selleck', 'seriessci', 'shadeby', 'sheenanas', 'shopfeel', 'siete', 'sissel', 'slavarien', 'smithing', 'societry', 'soonkink', 'sparkers', 'spoilerfrom', 'ssgt', 'starscarrie', 'starstatts', 'stepper', 'stormcrows', 'stricken', 'subsections', 'suna', 'surroundedby', 'swooniness', 'tahyth', 'targetstore', 'teamkandi', 'tempura', 'thanggg', 'themdid', 'thierrys', 'threatens', 'timberfox', 'toblerone', 'topicsgrammar', 'tradespeople', 'tremble', 'trudged', 'tuscan', 'ueber', 'unclothed', 'unfolds', 'unpronounceable', 'upended', 'vagarities', 'vaungh', 'versillius', 'violens', 'vosf', 'wanked', 'waycourtesy', 'wenow', 'whhat', 'wield', 'wiould', 'wolfmate', 'worldwriting', 'wsit', 'yannah', 'youhad', 'zav', 'zuwendung']\n"
     ]
    },
    {
     "data": {
      "text/plain": [
       "MultinomialNB()"
      ]
     },
     "execution_count": 25,
     "metadata": {},
     "output_type": "execute_result"
    }
   ],
   "source": [
    "from sklearn.feature_extraction.text import CountVectorizer,TfidfVectorizer\n",
    "from sklearn.naive_bayes import BernoulliNB, MultinomialNB\n",
    "countVect = CountVectorizer() \n",
    "X_train_countVect = countVect.fit_transform(X_train_cleaned)\n",
    "print(\"Number of features : %d \\n\" %len(countVect.get_feature_names())) #6378 \n",
    "print(\"Show some feature names : \\n\", countVect.get_feature_names()[::1000])\n",
    "\n",
    "\n",
    "# Train MultinomialNB classifier\n",
    "mnb = MultinomialNB()\n",
    "mnb.fit(X_train_countVect, y_train)"
   ]
  },
  {
   "cell_type": "code",
   "execution_count": 26,
   "id": "proud-second",
   "metadata": {},
   "outputs": [],
   "source": [
    "import pickle\n",
    "pickle.dump(countVect,open('countVect.pkl','wb'))"
   ]
  },
  {
   "cell_type": "code",
   "execution_count": 27,
   "id": "given-findings",
   "metadata": {},
   "outputs": [],
   "source": [
    "def modelEvaluation(predictions):\n",
    "    '''\n",
    "    Print model evaluation to predicted result \n",
    "    '''\n",
    "    print (\"\\nAccuracy on validation set: {:.4f}\".format(accuracy_score(y_test, predictions)))\n",
    "    print(\"\\nAUC score : {:.4f}\".format(roc_auc_score(y_test, predictions)))\n",
    "    print(\"\\nClassification report : \\n\", metrics.classification_report(y_test, predictions))\n",
    "    print(\"\\nConfusion Matrix : \\n\", metrics.confusion_matrix(y_test, predictions))"
   ]
  },
  {
   "cell_type": "code",
   "execution_count": 28,
   "id": "allied-amplifier",
   "metadata": {},
   "outputs": [
    {
     "name": "stdout",
     "output_type": "stream",
     "text": [
      "\n",
      "Accuracy on validation set: 0.8829\n",
      "\n",
      "AUC score : 0.8341\n",
      "\n",
      "Classification report : \n",
      "               precision    recall  f1-score   support\n",
      "\n",
      "           0       0.59      0.76      0.67     15209\n",
      "           1       0.95      0.90      0.93     83051\n",
      "\n",
      "    accuracy                           0.88     98260\n",
      "   macro avg       0.77      0.83      0.80     98260\n",
      "weighted avg       0.90      0.88      0.89     98260\n",
      "\n",
      "\n",
      "Confusion Matrix : \n",
      " [[11609  3600]\n",
      " [ 7905 75146]]\n"
     ]
    }
   ],
   "source": [
    "from sklearn import metrics\n",
    "from sklearn.metrics import roc_auc_score, accuracy_score\n",
    "predictions = mnb.predict(countVect.transform(X_test_cleaned))\n",
    "modelEvaluation(predictions)"
   ]
  },
  {
   "cell_type": "code",
   "execution_count": 28,
   "id": "black-fiber",
   "metadata": {},
   "outputs": [
    {
     "data": {
      "text/plain": [
       "MultinomialNB()"
      ]
     },
     "execution_count": 28,
     "metadata": {},
     "output_type": "execute_result"
    }
   ],
   "source": [
    "mnb"
   ]
  },
  {
   "cell_type": "code",
   "execution_count": 29,
   "id": "modern-colony",
   "metadata": {},
   "outputs": [],
   "source": [
    "import pickle\n",
    "pickle.dump(mnb,open('Naive_Bayes_model.pkl','wb'))"
   ]
  },
  {
   "cell_type": "markdown",
   "id": "practical-gregory",
   "metadata": {},
   "source": [
    "# TfidfVectorizer with Logistic Regression"
   ]
  },
  {
   "cell_type": "code",
   "execution_count": 30,
   "id": "opposed-rainbow",
   "metadata": {},
   "outputs": [
    {
     "name": "stdout",
     "output_type": "stream",
     "text": [
      "Number of features : 71771 \n",
      "\n",
      "Show some feature names : \n",
      " ['00', '4passion', 'additions', 'allegories', 'antiques', 'asst', 'balking', 'belted', 'blondie', 'braves', 'butta', 'casein', 'cherish', 'cmarie1', 'conflicting', 'couper', 'cuts', 'defenitly', 'devotedly', 'dita', 'drust', 'elize', 'equity', 'expressionless', 'festivities', 'foothills', 'gaenor', 'glc', 'gritting', 'harriett', 'him', 'hunched', 'incrementally', 'interweave', 'jeepdiva', 'kassandra', 'kollar', 'leashes', 'livie', 'macadams', 'marsdale', 'mending', 'mixit', 'mushy', 'nid', 'oddness', 'overcast', 'pattycake', 'piers', 'potentially', 'prospectors', 'ragnar', 'recreate', 'reptile', 'rivulets', 'sags', 'scrip', 'shaped', 'sir', 'sock', 'spurn', 'stooges', 'supposedly', 'tartan', 'thise', 'totter', 'turnip', 'unkind', 'veiled', 'wanda', 'wiggin', 'wyvern']\n"
     ]
    }
   ],
   "source": [
    "from sklearn.naive_bayes import BernoulliNB, MultinomialNB\n",
    "from sklearn.linear_model import LogisticRegression\n",
    "from sklearn.feature_extraction.text import CountVectorizer,TfidfVectorizer\n",
    "tfidf = TfidfVectorizer(min_df=5) #minimum document frequency of 5\n",
    "X_train_tfidf = tfidf.fit_transform(X_train)\n",
    "print(\"Number of features : %d \\n\" %len(tfidf.get_feature_names())) #1722\n",
    "print(\"Show some feature names : \\n\", tfidf.get_feature_names()[::1000])\n"
   ]
  },
  {
   "cell_type": "code",
   "execution_count": null,
   "id": "indonesian-hawaiian",
   "metadata": {},
   "outputs": [],
   "source": [
    "# Logistic Regression\n",
    "lr = LogisticRegression()\n",
    "lr.fit(X_train_tfidf, y_train)\n",
    "feature_names = np.array(tfidf.get_feature_names())\n",
    "sorted_coef_index = lr.coef_[0].argsort()\n",
    "print('\\nTop 10 features with smallest coefficients :\\n{}\\n'.format(feature_names[sorted_coef_index[:10]]))\n",
    "print('Top 10 features with largest coefficients : \\n{}'.format(feature_names[sorted_coef_index[:-11:-1]]))\n",
    "predictions = lr.predict(tfidf.transform(X_test_cleaned))\n",
    "modelEvaluation(predictions)"
   ]
  },
  {
   "cell_type": "code",
   "execution_count": null,
   "id": "dress-bones",
   "metadata": {},
   "outputs": [],
   "source": [
    "from sklearn.model_selection import  GridSearchCV\n",
    "from sklearn import metrics\n",
    "from sklearn.metrics import roc_auc_score, accuracy_score\n",
    "from sklearn.pipeline import Pipeline\n",
    "estimators = [(\"tfidf\", TfidfVectorizer()), (\"lr\", LogisticRegression())]\n",
    "model = Pipeline(estimators)\n",
    "\n",
    "\n",
    "params = {\"lr__C\":[0.1, 1, 10], \n",
    "          \"tfidf__min_df\": [1, 3], \n",
    "          \"tfidf__max_features\": [1000, None], \n",
    "          \"tfidf__ngram_range\": [(1,1), (1,2)], \n",
    "          \"tfidf__stop_words\": [None, \"english\"]} \n",
    "\n",
    "grid = GridSearchCV(estimator=model, param_grid=params, scoring=\"accuracy\", n_jobs=-1)\n",
    "grid.fit(X_train_cleaned, y_train)\n",
    "print(\"The best paramenter set is : \\n\", grid.best_params_)\n",
    "\n",
    "\n",
    "# Evaluate on the validaton set\n",
    "predictions = grid.predict(X_test_cleaned)\n",
    "modelEvaluation(predictions)"
   ]
  },
  {
   "cell_type": "code",
   "execution_count": null,
   "id": "coupled-grant",
   "metadata": {},
   "outputs": [],
   "source": [
    "from sklearn.externals import joblib\n",
    "joblib.dump(grid.best_estimator_, 'LogisticModel.pkl')"
   ]
  },
  {
   "cell_type": "code",
   "execution_count": null,
   "id": "technological-council",
   "metadata": {},
   "outputs": [],
   "source": [
    "joblib_model = joblib.load('LogisticModel.pkl')\n",
    "joblib_model"
   ]
  },
  {
   "cell_type": "markdown",
   "id": "assured-nicaragua",
   "metadata": {},
   "source": [
    "# Word2Vec"
   ]
  },
  {
   "cell_type": "markdown",
   "id": "built-copyright",
   "metadata": {},
   "source": [
    "Step 1 : Parse review text to sentences (Word2Vec model takes a list of sentences as inputs)\n",
    "\n",
    "Step 2 : Create volcabulary list using Word2Vec model.\n",
    "\n",
    "Step 3 : Transform each review into numerical representation by computing average feature vectors of words therein.\n",
    "\n",
    "Step 4 : Fit the average feature vectors to Random Forest Classifier."
   ]
  },
  {
   "cell_type": "code",
   "execution_count": 23,
   "id": "tracked-influence",
   "metadata": {},
   "outputs": [
    {
     "name": "stdout",
     "output_type": "stream",
     "text": [
      "884336 parsed sentence in the training set\n",
      "\n",
      "Show a parsed sentence in the training set : \n",
      " ['really', 'enjoyed', 'the', 'main', 'characters', 'this', 'is', 'definitely', 'a', 'feel', 'good', 'story', 'that', 'is', 'believable', 'and', 'still', 'manages', 'to', 'have', 'a', 'good', 'ending', 'i', 'hope', 'this', 'author', 'has', 'another', 'book', 'out', 'soon', 'great', 'story']\n"
     ]
    }
   ],
   "source": [
    "# nltk.download()\n",
    "tokenizer = nltk.data.load('tokenizers/punkt/english.pickle')\n",
    "\n",
    "def parseSent(review, tokenizer, remove_stopwords=False):\n",
    "\n",
    "    raw_sentences = tokenizer.tokenize(review.strip())\n",
    "    sentences = []\n",
    "    for raw_sentence in raw_sentences:\n",
    "        if len(raw_sentence) > 0:\n",
    "            sentences.append(cleanText(raw_sentence, remove_stopwords, split_text=True))\n",
    "    return sentences\n",
    "\n",
    "\n",
    "# Parse each review in the training set into sentences\n",
    "sentences = []\n",
    "for review in X_train_cleaned:\n",
    "    sentences += parseSent(review, tokenizer,remove_stopwords=False)\n",
    "    \n",
    "print('%d parsed sentence in the training set\\n'  %len(sentences))\n",
    "print('Show a parsed sentence in the training set : \\n',  sentences[10])"
   ]
  },
  {
   "cell_type": "markdown",
   "id": "sapphire-immune",
   "metadata": {},
   "source": [
    "# Creating Volcabulary List usinhg Word2Vec Model"
   ]
  },
  {
   "cell_type": "code",
   "execution_count": 24,
   "id": "fourth-korean",
   "metadata": {},
   "outputs": [
    {
     "name": "stdout",
     "output_type": "stream",
     "text": [
      "Training Word2Vec model ...\n",
      "\n",
      "Number of words in the vocabulary list : 54980 \n",
      "\n",
      "Show first 10 words in the vocalbulary list  vocabulary list: \n",
      " ['the', 'and', 'to', 'i', 'a', 'of', 'it', 'is', 'this', 'in']\n"
     ]
    }
   ],
   "source": [
    "num_features = 300  #embedding dimension \n",
    "min_word_count = 10                \n",
    "num_workers = 4       \n",
    "context = 10                                                                                          \n",
    "downsampling = 1e-3 \n",
    "\n",
    "print(\"Training Word2Vec model ...\\n\")\n",
    "w2v = Word2Vec(sentences, workers=num_workers, size=num_features, min_count = min_word_count,\\\n",
    "                 window = context, sample = downsampling)\n",
    "w2v.init_sims(replace=True)\n",
    "w2v.save(\"w2v_300features_10minwordcounts_10context\") #save trained word2vec model\n",
    "\n",
    "print(\"Number of words in the vocabulary list : %d \\n\" %len(w2v.wv.index2word)) #4016 \n",
    "print(\"Show first 10 words in the vocalbulary list  vocabulary list: \\n\", w2v.wv.index2word[0:10])"
   ]
  },
  {
   "cell_type": "markdown",
   "id": "executive-wheat",
   "metadata": {},
   "source": [
    "# Averaging Feature Vectors"
   ]
  },
  {
   "cell_type": "code",
   "execution_count": 25,
   "id": "lightweight-replication",
   "metadata": {},
   "outputs": [],
   "source": [
    "def makeFeatureVec(review, model, num_features):\n",
    "    '''\n",
    "    Transform a review to a feature vector by averaging feature vectors of words \n",
    "    appeared in that review and in the volcabulary list created\n",
    "    '''\n",
    "    featureVec = np.zeros((num_features,),dtype=\"float32\")\n",
    "    nwords = 0.\n",
    "    index2word_set = set(model.wv.index2word) #index2word is the volcabulary list of the Word2Vec model\n",
    "    isZeroVec = True\n",
    "    for word in review:\n",
    "        if word in index2word_set: \n",
    "            nwords = nwords + 1.\n",
    "            featureVec = np.add(featureVec, model[word])\n",
    "            isZeroVec = False\n",
    "    if isZeroVec == False:\n",
    "        featureVec = np.divide(featureVec, nwords)\n",
    "    return featureVec"
   ]
  },
  {
   "cell_type": "code",
   "execution_count": 26,
   "id": "sporting-thunder",
   "metadata": {},
   "outputs": [],
   "source": [
    "def getAvgFeatureVecs(reviews, model, num_features):\n",
    "    '''\n",
    "    Transform all reviews to feature vectors using makeFeatureVec()\n",
    "    '''\n",
    "    counter = 0\n",
    "    reviewFeatureVecs = np.zeros((len(reviews),num_features),dtype=\"float32\")\n",
    "    for review in reviews:\n",
    "        reviewFeatureVecs[counter] = makeFeatureVec(review, model,num_features)\n",
    "        counter = counter + 1\n",
    "    return reviewFeatureVecs"
   ]
  },
  {
   "cell_type": "code",
   "execution_count": null,
   "id": "composite-provision",
   "metadata": {},
   "outputs": [],
   "source": [
    "X_train_cleaned = []\n",
    "for review in X_train:\n",
    "    X_train_cleaned.append(cleanText(review, remove_stopwords=True, split_text=True))\n",
    "trainVector = getAvgFeatureVecs(X_train_cleaned, w2v, num_features)\n",
    "print(\"Training set : %d feature vectors with %d dimensions\" %trainVector.shape)\n",
    "\n",
    "\n",
    "# Get feature vectors for validation set\n",
    "X_test_cleaned = []\n",
    "for review in X_test:\n",
    "    X_test_cleaned.append(cleanText(review, remove_stopwords=True, split_text=True))\n",
    "testVector = getAvgFeatureVecs(X_test_cleaned, w2v, num_features)\n",
    "print(\"Validation set : %d feature vectors with %d dimensions\" %testVector.shape)"
   ]
  },
  {
   "cell_type": "markdown",
   "id": "involved-appliance",
   "metadata": {},
   "source": [
    "# Random Forest Classifer"
   ]
  },
  {
   "cell_type": "code",
   "execution_count": null,
   "id": "distinct-upgrade",
   "metadata": {},
   "outputs": [],
   "source": [
    "from sklearn.ensemble import RandomForestClassifier\n",
    "rf = RandomForestClassifier(n_estimators=100)\n",
    "rf.fit(trainVector, y_train)\n",
    "predictions = rf.predict(testVector)\n",
    "modelEvaluation(predictions)"
   ]
  },
  {
   "cell_type": "markdown",
   "id": "rural-future",
   "metadata": {},
   "source": [
    "# LSTM"
   ]
  },
  {
   "cell_type": "markdown",
   "id": "cleared-information",
   "metadata": {},
   "source": [
    "Step 1 : Prepare X_train and X_test to 2D tensor.\n",
    "\n",
    "Step 2 : Train a simple LSTM (embeddign layer => LSTM layer => dense layer).\n",
    "\n",
    "Step 3 : Compile and fit the model using log loss function and ADAM optimizer."
   ]
  },
  {
   "cell_type": "code",
   "execution_count": null,
   "id": "matched-popularity",
   "metadata": {},
   "outputs": [],
   "source": [
    "from keras.preprocessing import sequence\n",
    "from keras.utils import np_utils\n",
    "from keras.models import Sequential\n",
    "from keras.layers.core import Dense, Dropout, Activation, Lambda\n",
    "from keras.layers.embeddings import Embedding\n",
    "from keras.layers.recurrent import LSTM, SimpleRNN, GRU\n",
    "from keras.preprocessing.text import Tokenizer\n",
    "from collections import defaultdict\n",
    "from keras.layers.convolutional import Convolution1D\n",
    "from keras import backend as K\n",
    "from keras.layers.embeddings import Embedding"
   ]
  },
  {
   "cell_type": "code",
   "execution_count": null,
   "id": "aquatic-annotation",
   "metadata": {},
   "outputs": [],
   "source": [
    "top_words = 20000 \n",
    "maxlen = 100 \n",
    "batch_size = 32\n",
    "nb_classes = 2\n",
    "nb_epoch = 3\n",
    "\n",
    "\n",
    "# Vectorize X_train and X_test to 2D tensor\n",
    "tokenizer = Tokenizer(nb_words=top_words) #only consider top 20000 words in the corpse\n",
    "tokenizer.fit_on_texts(X_train)\n",
    "# tokenizer.word_index #access word-to-index dictionary of trained tokenizer\n",
    "\n",
    "sequences_train = tokenizer.texts_to_sequences(X_train)\n",
    "sequences_test = tokenizer.texts_to_sequences(X_test)\n",
    "\n",
    "X_train_seq = sequence.pad_sequences(sequences_train, maxlen=maxlen)\n",
    "X_test_seq = sequence.pad_sequences(sequences_test, maxlen=maxlen)\n",
    "\n",
    "\n",
    "# one-hot encoding of y_train and y_test\n",
    "y_train_seq = np_utils.to_categorical(y_train, nb_classes)\n",
    "y_test_seq = np_utils.to_categorical(y_test, nb_classes)\n",
    "\n",
    "print('X_train shape:', X_train_seq.shape)\n",
    "print(\"========================================\")\n",
    "print('X_test shape:', X_test_seq.shape)\n",
    "print(\"========================================\")\n",
    "print('y_train shape:', y_train_seq.shape)\n",
    "print(\"========================================\")\n",
    "print('y_test shape:', y_test_seq.shape)\n",
    "print(\"========================================\")"
   ]
  },
  {
   "cell_type": "code",
   "execution_count": null,
   "id": "republican-football",
   "metadata": {},
   "outputs": [],
   "source": [
    "model1.add(Embedding(top_words, 128, dropout=0.2))\n",
    "model1.add(LSTM(128, dropout_W=0.2, dropout_U=0.2)) \n",
    "model1.add(Dense(nb_classes))\n",
    "model1.add(Activation('softmax'))\n",
    "model1.summary()\n",
    "\n",
    "# Compile LSTM\n",
    "model1.compile(loss='binary_crossentropy',\n",
    "              optimizer='adam',\n",
    "              metrics=['accuracy'])\n",
    "\n",
    "model1.fit(X_train_seq, y_train_seq, batch_size=batch_size, nb_epoch=nb_epoch, verbose=1)\n",
    "\n",
    "# Model evluation\n",
    "score = model1.evaluate(X_test_seq, y_test_seq, batch_size=batch_size)\n",
    "print('Test loss : {:.4f}'.format(score[0]))\n",
    "print('Test accuracy : {:.4f}'.format(score[1]))"
   ]
  },
  {
   "cell_type": "code",
   "execution_count": null,
   "id": "interpreted-hostel",
   "metadata": {},
   "outputs": [],
   "source": [
    "model1.layers[0].get_weights()[0]\n",
    "print(\"Size of weight matrix in the embedding layer : \", \\\n",
    "      model1.layers[0].get_weights()[0].shape)\n",
    "\n",
    "# get weight matrix of the hidden layer\n",
    "print(\"Size of weight matrix in the hidden layer : \", \\\n",
    "      model1.layers[1].get_weights()[0].shape)\n",
    "\n",
    "# get weight matrix of the output layer\n",
    "print(\"Size of weight matrix in the output layer : \", \\\n",
    "      model1.layers[2].get_weights()[0].shape)"
   ]
  },
  {
   "cell_type": "markdown",
   "id": "dynamic-verification",
   "metadata": {},
   "source": [
    "# LSTM with Word2Vec Embedding"
   ]
  },
  {
   "cell_type": "code",
   "execution_count": null,
   "id": "affected-humanity",
   "metadata": {},
   "outputs": [],
   "source": [
    "w2v = Word2Vec.load(\"w2v_300features_10minwordcounts_10context\")\n",
    "\n",
    "embedding_matrix = w2v.wv.syn0 \n",
    "print(\"Shape of embedding matrix : \", embedding_matrix.shape"
   ]
  },
  {
   "cell_type": "code",
   "execution_count": null,
   "id": "discrete-costume",
   "metadata": {},
   "outputs": [],
   "source": [
    "top_words = embedding_matrix.shape[0] #4016\n",
    "maxlen = 100 \n",
    "batch_size = 32\n",
    "nb_classes = 2\n",
    "nb_epoch = 3\n",
    "\n",
    "\n",
    "# Vectorize X_train and X_test to 2D tensor\n",
    "tokenizer = Tokenizer(nb_words=top_words) #only consider top 20000 words in the corpse\n",
    "tokenizer.fit_on_texts(X_train)\n",
    "# tokenizer.word_index #access word-to-index dictionary of trained tokenizer\n",
    "\n",
    "sequences_train = tokenizer.texts_to_sequences(X_train)\n",
    "sequences_test = tokenizer.texts_to_sequences(X_test)\n",
    "\n",
    "X_train_seq = sequence.pad_sequences(sequences_train, maxlen=maxlen)\n",
    "X_test_seq = sequence.pad_sequences(sequences_test, maxlen=maxlen)\n",
    "\n",
    "\n",
    "# one-hot encoding of y_train and y_test\n",
    "y_train_seq = np_utils.to_categorical(y_train, nb_classes)\n",
    "y_test_seq = np_utils.to_categorical(y_test, nb_classes)\n",
    "\n",
    "print('X_train shape:', X_train_seq.shape)\n",
    "print(\"========================================\")\n",
    "print('X_test shape:', X_test_seq.shape)\n",
    "print(\"========================================\")\n",
    "print('y_train shape:', y_train_seq.shape)\n",
    "print(\"========================================\")\n",
    "print('y_test shape:', y_test_seq.shape)\n",
    "print(\"========================================\")"
   ]
  },
  {
   "cell_type": "code",
   "execution_count": null,
   "id": "southern-trinidad",
   "metadata": {},
   "outputs": [],
   "source": [
    "embedding_layer = Embedding(embedding_matrix.shape[0], #4016\n",
    "                            embedding_matrix.shape[1], #300\n",
    "                            weights=[embedding_matrix])\n",
    "\n",
    "model2 = Sequential()\n",
    "model2.add(embedding_layer)\n",
    "model2.add(LSTM(128, dropout_W=0.2, dropout_U=0.2)) \n",
    "model2.add(Dense(nb_classes))\n",
    "model2.add(Activation('softmax'))\n",
    "model2.summary()"
   ]
  },
  {
   "cell_type": "code",
   "execution_count": null,
   "id": "plastic-twins",
   "metadata": {},
   "outputs": [],
   "source": [
    "# Compile model\n",
    "model2.compile(loss='binary_crossentropy',\n",
    "              optimizer='adam',\n",
    "              metrics=['accuracy'])\n",
    "\n",
    "model2.fit(X_train_seq, y_train_seq, batch_size=batch_size, nb_epoch=nb_epoch, verbose=1)\n",
    "\n",
    "\n",
    "# Model evaluation\n",
    "score = model2.evaluate(X_test_seq, y_test_seq, batch_size=batch_size)\n",
    "print('Test loss : {:.4f}'.format(score[0]))\n",
    "print('Test accuracy : {:.4f}'.format(score[1]))"
   ]
  },
  {
   "cell_type": "code",
   "execution_count": null,
   "id": "dietary-banana",
   "metadata": {},
   "outputs": [],
   "source": [
    "print(\"Size of weight matrix in the embedding layer : \", \\\n",
    "      model2.layers[0].get_weights()[0].shape) \n",
    "\n",
    "print(\"Size of weight matrix in the hidden layer : \", \\\n",
    "      model2.layers[1].get_weights()[0].shape) \n",
    "\n",
    "print(\"Size of weight matrix in the output layer : \", \\\n",
    "      model2.layers[2].get_weights()[0].shape"
   ]
  },
  {
   "cell_type": "code",
   "execution_count": null,
   "id": "similar-tradition",
   "metadata": {},
   "outputs": [],
   "source": [
    "model_yaml = model2.to_yaml()\n",
    "with open(\"model2.yaml\", \"w\") as yaml_file:\n",
    "    yaml_file.write(model_yaml)\n",
    "# serialize weights to HDF5\n",
    "model.save_weights(\"model2.h5\")\n",
    "print(\"Saved model to disk\")"
   ]
  },
  {
   "cell_type": "code",
   "execution_count": null,
   "id": "personal-albuquerque",
   "metadata": {},
   "outputs": [],
   "source": [
    "yaml_file = open('model2.yaml', 'r')\n",
    "loaded_model_yaml = yaml_file.read()\n",
    "yaml_file.close()\n",
    "loaded_model = model_from_yaml(loaded_model_yaml)\n",
    "# load weights into new model\n",
    "loaded_model.load_weights(\"model2.h5\")"
   ]
  },
  {
   "cell_type": "markdown",
   "id": "printable-healing",
   "metadata": {},
   "source": [
    "# Word Cloud"
   ]
  },
  {
   "cell_type": "code",
   "execution_count": null,
   "id": "helpful-gnome",
   "metadata": {},
   "outputs": [],
   "source": [
    "Positive_Sentiment = df[df['overall']==1]\n",
    "Negative_Sentiment = df[df['overall']==0]"
   ]
  },
  {
   "cell_type": "code",
   "execution_count": null,
   "id": "southern-circumstances",
   "metadata": {},
   "outputs": [],
   "source": [
    "Positive_Sentiment = Positive_Sentiment[['reviewerName']]\n",
    "Negative_Sentiment = Negative_Sentiment[['reviewerName']]\n",
    "Positive_Sentiment =Positive_Sentiment['reviewerName'].to_list()\n",
    "Negative_Sentiment =Negative_Sentiment['reviewerName'].to_list()"
   ]
  },
  {
   "cell_type": "code",
   "execution_count": null,
   "id": "deluxe-caution",
   "metadata": {},
   "outputs": [],
   "source": [
    "import matplotlib.pyplot as plt\n",
    "from wordcloud import WordCloud\n",
    "wordcloud = WordCloud(width = 1000, height = 500).generate(\" \".join(Positive_Sentiment))\n",
    "wordcloud\n",
    "plt.figure(figsize=(15,8))\n",
    "plt.imshow(wordcloud)\n",
    "plt.axis(\"off\")\n",
    "plt.show()\n",
    "plt.close()"
   ]
  },
  {
   "cell_type": "code",
   "execution_count": null,
   "id": "outdoor-arrangement",
   "metadata": {},
   "outputs": [],
   "source": [
    "import matplotlib.pyplot as plt\n",
    "from wordcloud import WordCloud\n",
    "wordcloud = WordCloud(width = 1000, height = 500).generate(\" \".join(Negative_Sentiment))\n",
    "wordcloud\n",
    "plt.figure(figsize=(15,8))\n",
    "plt.imshow(wordcloud)\n",
    "plt.axis(\"off\")\n",
    "plt.show()\n",
    "plt.close()"
   ]
  },
  {
   "cell_type": "code",
   "execution_count": null,
   "id": "supposed-delay",
   "metadata": {},
   "outputs": [],
   "source": []
  }
 ],
 "metadata": {
  "kernelspec": {
   "display_name": "Python 3",
   "language": "python",
   "name": "python3"
  },
  "language_info": {
   "codemirror_mode": {
    "name": "ipython",
    "version": 3
   },
   "file_extension": ".py",
   "mimetype": "text/x-python",
   "name": "python",
   "nbconvert_exporter": "python",
   "pygments_lexer": "ipython3",
   "version": "3.8.3"
  }
 },
 "nbformat": 4,
 "nbformat_minor": 5
}
